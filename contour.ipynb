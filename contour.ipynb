{
 "cells": [
  {
   "cell_type": "code",
   "execution_count": 1,
   "metadata": {},
   "outputs": [],
   "source": [
    "import numpy as np\n",
    "from matplotlib import pyplot as plt\n",
    "from scipy.interpolate import griddata\n",
    "import matplotlib.pyplot as plt\n",
    "import matplotlib.patches as patches"
   ]
  },
  {
   "cell_type": "code",
   "execution_count": 2,
   "metadata": {},
   "outputs": [
    {
     "data": {
      "image/png": "[encoded data removed]",
      "text/plain": [
       "<Figure size 640x480 with 1 Axes>"
      ]
     },
     "metadata": {},
     "output_type": "display_data"
    }
   ],
   "source": [
    "# 새로운 플롯 설정\n",
    "fig, ax = plt.subplots()\n",
    "\n",
    "# 밑창 외곽선을 그리기 위한 좌표 설정 - right\n",
    "sole_outline = patches.Rectangle((0, 0), width=195, height=537, fill=False, edgecolor='black', lw=2)\n",
    "\n",
    "# 격자를 그리기 위한 사각형들 추가 (사각형 좌표 및 크기 설정)\n",
    "x_ls = [[87, 134], [87, 134], [69, 109, 146], [27, 69, 107, 147], [27, 69, 116]]\n",
    "y_ls = [[56, 56], [154, 154], [259, 259, 259], [367, 356, 356, 356], [454, 454, 435]]\n",
    "sensor_size = 20\n",
    "foot_w = 196\n",
    "foot_h = 537 # width, height\n",
    "plantar_r = []\n",
    "\n",
    "\n",
    "# 각 좌표에 대해 사각형 패치를 추가\n",
    "for i in range(len(x_ls)):  # x_ls의 길이만큼 반복\n",
    "    for j in range(len(x_ls[i])):  # 각 줄의 x 좌표에 맞는 y 좌표들에 대해 반복\n",
    "        plantar_r.append(patches.Rectangle((x_ls[i][j], y_ls[i][j]), sensor_size, sensor_size, edgecolor='black', fill=False))\n",
    "\n",
    "# 도형을 플롯에 추가\n",
    "ax.add_patch(sole_outline)\n",
    "for r in plantar_r:\n",
    "    ax.add_patch(r)\n",
    "\n",
    "# 축 크기와 비율 설정\n",
    "ax.set_xlim(0, 195)\n",
    "ax.set_ylim(0, 537)\n",
    "ax.set_aspect('equal')"
   ]
  },
  {
   "cell_type": "code",
   "execution_count": 3,
   "metadata": {},
   "outputs": [],
   "source": [
    "# 좌표 각 요소에 10을 더한 새로운 좌표 리스트 생성\n",
    "x_ls_offset = [[x + 10 for x in row] for row in x_ls]\n",
    "y_ls_offset = [[y + 10 for y in row] for row in y_ls]"
   ]
  },
  {
   "cell_type": "code",
   "execution_count": 14,
   "metadata": {},
   "outputs": [
    {
     "name": "stdout",
     "output_type": "stream",
     "text": [
      "[0.34588695 0.38852436 0.27428018 0.09872533 0.18189755 0.97221567\n",
      " 0.78543619 0.17229679 0.12060759 0.57730838 0.17716838 0.60440719\n",
      " 0.57105227 0.69619295]\n"
     ]
    },
    {
     "data": {
      "text/plain": [
       "<matplotlib.colorbar.Colorbar at 0x10f170b00>"
      ]
     },
     "execution_count": 14,
     "metadata": {},
     "output_type": "execute_result"
    }
   ],
   "source": [
    "# 임의의 값을 각 좌표에 할당\n",
    "z_values = np.random.rand(sum(len(row) for row in x_ls_offset))  # 임의의 값\n",
    "print(z_values)\n",
    "# x_ls_offset과 y_ls_offset을 1D 리스트로 변환\n",
    "x_coords = [x for row in x_ls_offset for x in row]\n",
    "y_coords = [y for row in y_ls_offset for y in row]\n",
    "\n",
    "# x, y 좌표 격자 생성\n",
    "x_l = 0\n",
    "x_r = 195  # left, right\n",
    "y_b = 0\n",
    "y_u = 537  # bottom, upper\n",
    "x_size = 100\n",
    "y_size = 300\n",
    "x_grid = np.linspace(x_l, x_r, x_size)\n",
    "y_grid = np.linspace(y_b, y_u, y_size)\n",
    "X, Y = np.meshgrid(x_grid, y_grid)\n",
    "\n",
    "# griddata를 사용하여 x, y 좌표에 대해 z 값을 보간\n",
    "Z = griddata((x_coords, y_coords), z_values, (X, Y), method='cubic')\n",
    "\n",
    "# 격자형 데이터를 플롯\n",
    "contour = ax.contourf(X, Y, Z, levels=50, cmap='viridis')\n",
    "\n",
    "# 컬러바 추가\n",
    "fig.colorbar(contour)"
   ]
  },
  {
   "cell_type": "code",
   "execution_count": 12,
   "metadata": {},
   "outputs": [],
   "source": [
    "plt.show()"
   ]
  },
  {
   "cell_type": "markdown",
   "metadata": {},
   "source": [
    "# 변경"
   ]
  },
  {
   "cell_type": "code",
   "execution_count": 15,
   "metadata": {},
   "outputs": [],
   "source": [
    "x_l = 0\n",
    "x_r = 537  # left, right\n",
    "y_b = 0\n",
    "y_u = 195  # bottom, upper\n",
    "x_size = 10\n",
    "y_size = 3000"
   ]
  },
  {
   "cell_type": "code",
   "execution_count": null,
   "metadata": {},
   "outputs": [],
   "source": [
    "# 좌표 각 요소에 10을 더한 새로운 좌표 리스트 생성\n",
    "x_ls_offset = [[x + 10 for x in row] for row in x_ls]\n",
    "y_ls_offset = [[y + 10 for y in row] for row in y_ls]\n",
    "# x_ls_offset과 y_ls_offset을 1D 리스트로 변환\n",
    "x_coords = [x for row in x_ls_offset for x in row]\n",
    "y_coords = [y for row in y_ls_offset for y in row]\n",
    "\n",
    "# 임의의 값을 각 좌표에 할당\n",
    "z_values = np.random.rand(sum(len(row) for row in x_ls_offset))  # 임의의 값\n",
    "\n",
    "x_grid = np.linspace(x_l, x_r, x_size)\n",
    "y_grid = np.linspace(y_b, y_u, y_size)\n",
    "X, Y = np.meshgrid(x_grid, y_grid)\n",
    "\n",
    "# x_ls_offset과 y_ls_offset을 1D 리스트로 변환\n",
    "x_coords = [x for row in x_ls_offset for x in row]\n",
    "y_coords = [y for row in y_ls_offset for y in row]\n",
    "\n",
    "\n",
    "# griddata를 사용하여 x, y 좌표에 대해 z 값을 보간\n",
    "Z = griddata((x_coords, y_coords), z_values, (X, Y), method='cubic')\n",
    "\n",
    "# 격자형 데이터를 플롯\n",
    "contour = ax.contourf(X, Y, Z, levels=50, cmap='viridis')\n",
    "\n",
    "# 컬러바 추가\n",
    "fig.colorbar(contour)\n",
    "\n",
    "plt.show()"
   ]
  },
  {
   "cell_type": "code",
   "execution_count": null,
   "metadata": {},
   "outputs": [],
   "source": [
    "fig = plt.figure(figsize=(12,8))\n",
    "fig.set_facecolor('black')"
   ]
  }
 ],
 "metadata": {
  "kernelspec": {
   "display_name": "sior-plantar",
   "language": "python",
   "name": "python3"
  },
  "language_info": {
   "codemirror_mode": {
    "name": "ipython",
    "version": 3
   },
   "file_extension": ".py",
   "mimetype": "text/x-python",
   "name": "python",
   "nbconvert_exporter": "python",
   "pygments_lexer": "ipython3",
   "version": "3.12.6"
  }
 },
 "nbformat": 4,
 "nbformat_minor": 2
}
